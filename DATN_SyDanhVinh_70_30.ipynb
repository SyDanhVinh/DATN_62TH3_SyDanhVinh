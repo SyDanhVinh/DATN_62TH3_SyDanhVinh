{
 "cells": [
  {
   "cell_type": "code",
   "execution_count": 9,
   "metadata": {},
   "outputs": [],
   "source": [
    "import os\n",
    "import shutil\n",
    "from sklearn.model_selection import train_test_split\n",
    "import tensorflow as tf\n",
    "from tensorflow.keras.preprocessing.image import ImageDataGenerator \n",
    "from tensorflow.keras.models import Sequential, load_model \n",
    "from tensorflow.keras.layers import Conv2D, MaxPooling2D, Flatten, Dense, Dropout \n",
    "from tensorflow.keras.callbacks import EarlyStopping, ReduceLROnPlateau \n",
    "import matplotlib.pyplot as plt\n",
    "from sklearn.metrics import confusion_matrix\n",
    "import seaborn as sns\n",
    "import numpy as np\n",
    "from tensorflow.keras.preprocessing import image "
   ]
  },
  {
   "cell_type": "code",
   "execution_count": 2,
   "metadata": {},
   "outputs": [
    {
     "name": "stdout",
     "output_type": "stream",
     "text": [
      "Dữ liệu đã được phân chia hoàn tất!\n"
     ]
    }
   ],
   "source": [
    "# ====== 1. Phân chia dữ liệu ======\n",
    "# Đường dẫn tới dataset gốc\n",
    "dataset_dir = \"D:/DATN/DATN_SyDanhVinh/skin_dataset\"\n",
    "output_dir = \"D:/DATN/DATN_SyDanhVinh/model_dataset\"\n",
    "\n",
    "# Tạo thư mục phân chia\n",
    "for split in ['train', 'validation', 'test']:\n",
    "    for class_name in ['benign', 'malignant']:\n",
    "        os.makedirs(os.path.join(output_dir, split, class_name), exist_ok=True)\n",
    "\n",
    "# Phân chia dữ liệu cho từng lớp\n",
    "for class_name in ['benign', 'malignant']:\n",
    "    source_dir = os.path.join(dataset_dir, class_name)\n",
    "    images = os.listdir(source_dir)\n",
    "    train_images, temp_images = train_test_split(images, test_size=0.3, random_state=42)\n",
    "    val_images, test_images = train_test_split(temp_images, test_size=0.5, random_state=42)\n",
    "    for img in train_images:\n",
    "        shutil.move(os.path.join(source_dir, img), os.path.join(output_dir, 'train', class_name, img))\n",
    "    for img in val_images:\n",
    "        shutil.move(os.path.join(source_dir, img), os.path.join(output_dir, 'validation', class_name, img))\n",
    "    for img in test_images:\n",
    "        shutil.move(os.path.join(source_dir, img), os.path.join(output_dir, 'test', class_name, img))\n",
    "\n",
    "print(\"Dữ liệu đã được phân chia hoàn tất!\")"
   ]
  },
  {
   "cell_type": "code",
   "execution_count": 10,
   "metadata": {},
   "outputs": [],
   "source": [
    "output_dir = \"D:/DATN/DATN_SyDanhVinh/model_dataset\""
   ]
  },
  {
   "cell_type": "code",
   "execution_count": 11,
   "metadata": {},
   "outputs": [
    {
     "name": "stdout",
     "output_type": "stream",
     "text": [
      "Số lượng ảnh trong tập huấn luyện (train):\n",
      "  - Benign: 5102\n",
      "  - Malignant: 4613\n",
      "Số lượng ảnh trong tập validation:\n",
      "  - Benign: 1093\n",
      "  - Malignant: 988\n",
      "Số lượng ảnh trong tập kiểm tra (test đã chia):\n",
      "  - Benign: 1094\n",
      "  - Malignant: 989\n"
     ]
    }
   ],
   "source": [
    "# Đường dẫn đến các thư mục train, validation, test\n",
    "train_dir = \"D:/DATN/DATN_SyDanhVinh/model_dataset/train\"\n",
    "validation_dir = \"D:/DATN/DATN_SyDanhVinh/model_dataset/validation\"\n",
    "test_dir = \"D:/DATN/DATN_SyDanhVinh/model_dataset/test\"\n",
    "\n",
    "# Hàm đếm số lượng ảnh trong thư mục\n",
    "def count_images_in_dir(directory):\n",
    "    count = 0\n",
    "    for root, dirs, files in os.walk(directory):\n",
    "        count += len(files)\n",
    "    return count\n",
    "\n",
    "# Kiểm tra số lượng ảnh cho mỗi thư mục trong dataset đã chia\n",
    "train_benign_count = count_images_in_dir(os.path.join(train_dir, 'Benign'))\n",
    "train_malignant_count = count_images_in_dir(os.path.join(train_dir, 'Malignant'))\n",
    "\n",
    "validation_benign_count = count_images_in_dir(os.path.join(validation_dir, 'Benign'))\n",
    "validation_malignant_count = count_images_in_dir(os.path.join(validation_dir, 'Malignant'))\n",
    "\n",
    "test_benign_count = count_images_in_dir(os.path.join(test_dir, 'Benign'))\n",
    "test_malignant_count = count_images_in_dir(os.path.join(test_dir, 'Malignant'))\n",
    "\n",
    "# In kết quả\n",
    "print(f\"Số lượng ảnh trong tập huấn luyện (train):\")\n",
    "print(f\"  - Benign: {train_benign_count}\")\n",
    "print(f\"  - Malignant: {train_malignant_count}\")\n",
    "print(f\"Số lượng ảnh trong tập validation:\")\n",
    "print(f\"  - Benign: {validation_benign_count}\")\n",
    "print(f\"  - Malignant: {validation_malignant_count}\")\n",
    "print(f\"Số lượng ảnh trong tập kiểm tra (test đã chia):\")\n",
    "print(f\"  - Benign: {test_benign_count}\")\n",
    "print(f\"  - Malignant: {test_malignant_count}\")"
   ]
  },
  {
   "cell_type": "code",
   "execution_count": 12,
   "metadata": {},
   "outputs": [
    {
     "name": "stdout",
     "output_type": "stream",
     "text": [
      "Found 9715 images belonging to 2 classes.\n",
      "Found 2081 images belonging to 2 classes.\n",
      "Found 2083 images belonging to 2 classes.\n"
     ]
    }
   ],
   "source": [
    "# ====== 2. Chuẩn bị dữ liệu ======\n",
    "train_dir = os.path.join(output_dir, 'train')\n",
    "validation_dir = os.path.join(output_dir, 'validation')\n",
    "test_dir = os.path.join(output_dir, 'test')\n",
    "\n",
    "train_datagen = ImageDataGenerator(rescale=1./255,\n",
    "                                   rotation_range=20,\n",
    "                                   width_shift_range=0.2,\n",
    "                                   height_shift_range=0.2,\n",
    "                                   horizontal_flip=True)\n",
    "\n",
    "test_datagen = ImageDataGenerator(rescale=1./255)\n",
    "\n",
    "train_data = train_datagen.flow_from_directory(train_dir,\n",
    "                                               target_size=(112, 112),\n",
    "                                               batch_size=32,\n",
    "                                               class_mode='binary')\n",
    "\n",
    "validation_data = test_datagen.flow_from_directory(validation_dir,\n",
    "                                                   target_size=(112, 112),\n",
    "                                                   batch_size=32,\n",
    "                                                   class_mode='binary')\n",
    "\n",
    "test_data = test_datagen.flow_from_directory(test_dir,\n",
    "                                             target_size=(112, 112),\n",
    "                                             batch_size=32,\n",
    "                                             class_mode='binary')"
   ]
  },
  {
   "cell_type": "code",
   "execution_count": 13,
   "metadata": {},
   "outputs": [
    {
     "data": {
      "text/html": [
       "<pre style=\"white-space:pre;overflow-x:auto;line-height:normal;font-family:Menlo,'DejaVu Sans Mono',consolas,'Courier New',monospace\"><span style=\"font-weight: bold\">Model: \"sequential_1\"</span>\n",
       "</pre>\n"
      ],
      "text/plain": [
       "\u001b[1mModel: \"sequential_1\"\u001b[0m\n"
      ]
     },
     "metadata": {},
     "output_type": "display_data"
    },
    {
     "data": {
      "text/html": [
       "<pre style=\"white-space:pre;overflow-x:auto;line-height:normal;font-family:Menlo,'DejaVu Sans Mono',consolas,'Courier New',monospace\">┏━━━━━━━━━━━━━━━━━━━━━━━━━━━━━━━━━┳━━━━━━━━━━━━━━━━━━━━━━━━┳━━━━━━━━━━━━━━━┓\n",
       "┃<span style=\"font-weight: bold\"> Layer (type)                    </span>┃<span style=\"font-weight: bold\"> Output Shape           </span>┃<span style=\"font-weight: bold\">       Param # </span>┃\n",
       "┡━━━━━━━━━━━━━━━━━━━━━━━━━━━━━━━━━╇━━━━━━━━━━━━━━━━━━━━━━━━╇━━━━━━━━━━━━━━━┩\n",
       "│ conv2d_2 (<span style=\"color: #0087ff; text-decoration-color: #0087ff\">Conv2D</span>)               │ (<span style=\"color: #00d7ff; text-decoration-color: #00d7ff\">None</span>, <span style=\"color: #00af00; text-decoration-color: #00af00\">110</span>, <span style=\"color: #00af00; text-decoration-color: #00af00\">110</span>, <span style=\"color: #00af00; text-decoration-color: #00af00\">16</span>)   │           <span style=\"color: #00af00; text-decoration-color: #00af00\">448</span> │\n",
       "├─────────────────────────────────┼────────────────────────┼───────────────┤\n",
       "│ max_pooling2d_2 (<span style=\"color: #0087ff; text-decoration-color: #0087ff\">MaxPooling2D</span>)  │ (<span style=\"color: #00d7ff; text-decoration-color: #00d7ff\">None</span>, <span style=\"color: #00af00; text-decoration-color: #00af00\">55</span>, <span style=\"color: #00af00; text-decoration-color: #00af00\">55</span>, <span style=\"color: #00af00; text-decoration-color: #00af00\">16</span>)     │             <span style=\"color: #00af00; text-decoration-color: #00af00\">0</span> │\n",
       "├─────────────────────────────────┼────────────────────────┼───────────────┤\n",
       "│ conv2d_3 (<span style=\"color: #0087ff; text-decoration-color: #0087ff\">Conv2D</span>)               │ (<span style=\"color: #00d7ff; text-decoration-color: #00d7ff\">None</span>, <span style=\"color: #00af00; text-decoration-color: #00af00\">53</span>, <span style=\"color: #00af00; text-decoration-color: #00af00\">53</span>, <span style=\"color: #00af00; text-decoration-color: #00af00\">32</span>)     │         <span style=\"color: #00af00; text-decoration-color: #00af00\">4,640</span> │\n",
       "├─────────────────────────────────┼────────────────────────┼───────────────┤\n",
       "│ max_pooling2d_3 (<span style=\"color: #0087ff; text-decoration-color: #0087ff\">MaxPooling2D</span>)  │ (<span style=\"color: #00d7ff; text-decoration-color: #00d7ff\">None</span>, <span style=\"color: #00af00; text-decoration-color: #00af00\">26</span>, <span style=\"color: #00af00; text-decoration-color: #00af00\">26</span>, <span style=\"color: #00af00; text-decoration-color: #00af00\">32</span>)     │             <span style=\"color: #00af00; text-decoration-color: #00af00\">0</span> │\n",
       "├─────────────────────────────────┼────────────────────────┼───────────────┤\n",
       "│ flatten_1 (<span style=\"color: #0087ff; text-decoration-color: #0087ff\">Flatten</span>)             │ (<span style=\"color: #00d7ff; text-decoration-color: #00d7ff\">None</span>, <span style=\"color: #00af00; text-decoration-color: #00af00\">21632</span>)          │             <span style=\"color: #00af00; text-decoration-color: #00af00\">0</span> │\n",
       "├─────────────────────────────────┼────────────────────────┼───────────────┤\n",
       "│ dense_2 (<span style=\"color: #0087ff; text-decoration-color: #0087ff\">Dense</span>)                 │ (<span style=\"color: #00d7ff; text-decoration-color: #00d7ff\">None</span>, <span style=\"color: #00af00; text-decoration-color: #00af00\">128</span>)            │     <span style=\"color: #00af00; text-decoration-color: #00af00\">2,769,024</span> │\n",
       "├─────────────────────────────────┼────────────────────────┼───────────────┤\n",
       "│ dropout_1 (<span style=\"color: #0087ff; text-decoration-color: #0087ff\">Dropout</span>)             │ (<span style=\"color: #00d7ff; text-decoration-color: #00d7ff\">None</span>, <span style=\"color: #00af00; text-decoration-color: #00af00\">128</span>)            │             <span style=\"color: #00af00; text-decoration-color: #00af00\">0</span> │\n",
       "├─────────────────────────────────┼────────────────────────┼───────────────┤\n",
       "│ dense_3 (<span style=\"color: #0087ff; text-decoration-color: #0087ff\">Dense</span>)                 │ (<span style=\"color: #00d7ff; text-decoration-color: #00d7ff\">None</span>, <span style=\"color: #00af00; text-decoration-color: #00af00\">1</span>)              │           <span style=\"color: #00af00; text-decoration-color: #00af00\">129</span> │\n",
       "└─────────────────────────────────┴────────────────────────┴───────────────┘\n",
       "</pre>\n"
      ],
      "text/plain": [
       "┏━━━━━━━━━━━━━━━━━━━━━━━━━━━━━━━━━┳━━━━━━━━━━━━━━━━━━━━━━━━┳━━━━━━━━━━━━━━━┓\n",
       "┃\u001b[1m \u001b[0m\u001b[1mLayer (type)                   \u001b[0m\u001b[1m \u001b[0m┃\u001b[1m \u001b[0m\u001b[1mOutput Shape          \u001b[0m\u001b[1m \u001b[0m┃\u001b[1m \u001b[0m\u001b[1m      Param #\u001b[0m\u001b[1m \u001b[0m┃\n",
       "┡━━━━━━━━━━━━━━━━━━━━━━━━━━━━━━━━━╇━━━━━━━━━━━━━━━━━━━━━━━━╇━━━━━━━━━━━━━━━┩\n",
       "│ conv2d_2 (\u001b[38;5;33mConv2D\u001b[0m)               │ (\u001b[38;5;45mNone\u001b[0m, \u001b[38;5;34m110\u001b[0m, \u001b[38;5;34m110\u001b[0m, \u001b[38;5;34m16\u001b[0m)   │           \u001b[38;5;34m448\u001b[0m │\n",
       "├─────────────────────────────────┼────────────────────────┼───────────────┤\n",
       "│ max_pooling2d_2 (\u001b[38;5;33mMaxPooling2D\u001b[0m)  │ (\u001b[38;5;45mNone\u001b[0m, \u001b[38;5;34m55\u001b[0m, \u001b[38;5;34m55\u001b[0m, \u001b[38;5;34m16\u001b[0m)     │             \u001b[38;5;34m0\u001b[0m │\n",
       "├─────────────────────────────────┼────────────────────────┼───────────────┤\n",
       "│ conv2d_3 (\u001b[38;5;33mConv2D\u001b[0m)               │ (\u001b[38;5;45mNone\u001b[0m, \u001b[38;5;34m53\u001b[0m, \u001b[38;5;34m53\u001b[0m, \u001b[38;5;34m32\u001b[0m)     │         \u001b[38;5;34m4,640\u001b[0m │\n",
       "├─────────────────────────────────┼────────────────────────┼───────────────┤\n",
       "│ max_pooling2d_3 (\u001b[38;5;33mMaxPooling2D\u001b[0m)  │ (\u001b[38;5;45mNone\u001b[0m, \u001b[38;5;34m26\u001b[0m, \u001b[38;5;34m26\u001b[0m, \u001b[38;5;34m32\u001b[0m)     │             \u001b[38;5;34m0\u001b[0m │\n",
       "├─────────────────────────────────┼────────────────────────┼───────────────┤\n",
       "│ flatten_1 (\u001b[38;5;33mFlatten\u001b[0m)             │ (\u001b[38;5;45mNone\u001b[0m, \u001b[38;5;34m21632\u001b[0m)          │             \u001b[38;5;34m0\u001b[0m │\n",
       "├─────────────────────────────────┼────────────────────────┼───────────────┤\n",
       "│ dense_2 (\u001b[38;5;33mDense\u001b[0m)                 │ (\u001b[38;5;45mNone\u001b[0m, \u001b[38;5;34m128\u001b[0m)            │     \u001b[38;5;34m2,769,024\u001b[0m │\n",
       "├─────────────────────────────────┼────────────────────────┼───────────────┤\n",
       "│ dropout_1 (\u001b[38;5;33mDropout\u001b[0m)             │ (\u001b[38;5;45mNone\u001b[0m, \u001b[38;5;34m128\u001b[0m)            │             \u001b[38;5;34m0\u001b[0m │\n",
       "├─────────────────────────────────┼────────────────────────┼───────────────┤\n",
       "│ dense_3 (\u001b[38;5;33mDense\u001b[0m)                 │ (\u001b[38;5;45mNone\u001b[0m, \u001b[38;5;34m1\u001b[0m)              │           \u001b[38;5;34m129\u001b[0m │\n",
       "└─────────────────────────────────┴────────────────────────┴───────────────┘\n"
      ]
     },
     "metadata": {},
     "output_type": "display_data"
    },
    {
     "data": {
      "text/html": [
       "<pre style=\"white-space:pre;overflow-x:auto;line-height:normal;font-family:Menlo,'DejaVu Sans Mono',consolas,'Courier New',monospace\"><span style=\"font-weight: bold\"> Total params: </span><span style=\"color: #00af00; text-decoration-color: #00af00\">2,774,241</span> (10.58 MB)\n",
       "</pre>\n"
      ],
      "text/plain": [
       "\u001b[1m Total params: \u001b[0m\u001b[38;5;34m2,774,241\u001b[0m (10.58 MB)\n"
      ]
     },
     "metadata": {},
     "output_type": "display_data"
    },
    {
     "data": {
      "text/html": [
       "<pre style=\"white-space:pre;overflow-x:auto;line-height:normal;font-family:Menlo,'DejaVu Sans Mono',consolas,'Courier New',monospace\"><span style=\"font-weight: bold\"> Trainable params: </span><span style=\"color: #00af00; text-decoration-color: #00af00\">2,774,241</span> (10.58 MB)\n",
       "</pre>\n"
      ],
      "text/plain": [
       "\u001b[1m Trainable params: \u001b[0m\u001b[38;5;34m2,774,241\u001b[0m (10.58 MB)\n"
      ]
     },
     "metadata": {},
     "output_type": "display_data"
    },
    {
     "data": {
      "text/html": [
       "<pre style=\"white-space:pre;overflow-x:auto;line-height:normal;font-family:Menlo,'DejaVu Sans Mono',consolas,'Courier New',monospace\"><span style=\"font-weight: bold\"> Non-trainable params: </span><span style=\"color: #00af00; text-decoration-color: #00af00\">0</span> (0.00 B)\n",
       "</pre>\n"
      ],
      "text/plain": [
       "\u001b[1m Non-trainable params: \u001b[0m\u001b[38;5;34m0\u001b[0m (0.00 B)\n"
      ]
     },
     "metadata": {},
     "output_type": "display_data"
    }
   ],
   "source": [
    "# ====== 3. Xây dựng mô hình CNN ======\n",
    "model = Sequential([\n",
    "    # Lớp tích chập\n",
    "    Conv2D(16, (3, 3), activation='relu', input_shape=(112, 112, 3)),  # Giảm số lượng bộ lọc\n",
    "    # Lớp gộp\n",
    "    MaxPooling2D(pool_size=(2, 2)),\n",
    "\n",
    "    Conv2D(32, (3, 3), activation='relu'),\n",
    "    MaxPooling2D(pool_size=(2, 2)),\n",
    "    # Chuyển dữ liệu từ ma trận 2D thành vector 1D để đưa vào lớp Dense\n",
    "    Flatten(),\n",
    "    Dense(128, activation='relu'),  # Giảm số lượng nơ-ron\n",
    "    Dropout(0.5),\n",
    "    Dense(1, activation='sigmoid')\n",
    "])\n",
    "\n",
    "model.compile(optimizer='adam',\n",
    "              loss='binary_crossentropy',\n",
    "              metrics=['accuracy'])\n",
    "\n",
    "model.summary()"
   ]
  },
  {
   "cell_type": "code",
   "execution_count": 14,
   "metadata": {},
   "outputs": [
    {
     "name": "stdout",
     "output_type": "stream",
     "text": [
      "Epoch 1/20\n",
      "\u001b[1m304/304\u001b[0m \u001b[32m━━━━━━━━━━━━━━━━━━━━\u001b[0m\u001b[37m\u001b[0m \u001b[1m227s\u001b[0m 735ms/step - accuracy: 0.6873 - loss: 0.5856 - val_accuracy: 0.8429 - val_loss: 0.3701 - learning_rate: 0.0010\n",
      "Epoch 2/20\n",
      "\u001b[1m304/304\u001b[0m \u001b[32m━━━━━━━━━━━━━━━━━━━━\u001b[0m\u001b[37m\u001b[0m \u001b[1m96s\u001b[0m 317ms/step - accuracy: 0.8090 - loss: 0.4196 - val_accuracy: 0.8554 - val_loss: 0.3486 - learning_rate: 0.0010\n",
      "Epoch 3/20\n",
      "\u001b[1m304/304\u001b[0m \u001b[32m━━━━━━━━━━━━━━━━━━━━\u001b[0m\u001b[37m\u001b[0m \u001b[1m92s\u001b[0m 304ms/step - accuracy: 0.8314 - loss: 0.3949 - val_accuracy: 0.8323 - val_loss: 0.3735 - learning_rate: 0.0010\n",
      "Epoch 4/20\n",
      "\u001b[1m304/304\u001b[0m \u001b[32m━━━━━━━━━━━━━━━━━━━━\u001b[0m\u001b[37m\u001b[0m \u001b[1m94s\u001b[0m 309ms/step - accuracy: 0.8315 - loss: 0.3774 - val_accuracy: 0.8260 - val_loss: 0.4337 - learning_rate: 0.0010\n",
      "Epoch 5/20\n",
      "\u001b[1m304/304\u001b[0m \u001b[32m━━━━━━━━━━━━━━━━━━━━\u001b[0m\u001b[37m\u001b[0m \u001b[1m92s\u001b[0m 302ms/step - accuracy: 0.8374 - loss: 0.3711 - val_accuracy: 0.8534 - val_loss: 0.3283 - learning_rate: 2.0000e-04\n",
      "Epoch 6/20\n",
      "\u001b[1m304/304\u001b[0m \u001b[32m━━━━━━━━━━━━━━━━━━━━\u001b[0m\u001b[37m\u001b[0m \u001b[1m136s\u001b[0m 281ms/step - accuracy: 0.8512 - loss: 0.3410 - val_accuracy: 0.8616 - val_loss: 0.3231 - learning_rate: 2.0000e-04\n",
      "Epoch 7/20\n",
      "\u001b[1m304/304\u001b[0m \u001b[32m━━━━━━━━━━━━━━━━━━━━\u001b[0m\u001b[37m\u001b[0m \u001b[1m92s\u001b[0m 304ms/step - accuracy: 0.8552 - loss: 0.3409 - val_accuracy: 0.8640 - val_loss: 0.3316 - learning_rate: 2.0000e-04\n",
      "Epoch 8/20\n",
      "\u001b[1m304/304\u001b[0m \u001b[32m━━━━━━━━━━━━━━━━━━━━\u001b[0m\u001b[37m\u001b[0m \u001b[1m92s\u001b[0m 302ms/step - accuracy: 0.8492 - loss: 0.3394 - val_accuracy: 0.8640 - val_loss: 0.3147 - learning_rate: 2.0000e-04\n",
      "Epoch 9/20\n",
      "\u001b[1m304/304\u001b[0m \u001b[32m━━━━━━━━━━━━━━━━━━━━\u001b[0m\u001b[37m\u001b[0m \u001b[1m95s\u001b[0m 313ms/step - accuracy: 0.8565 - loss: 0.3375 - val_accuracy: 0.8659 - val_loss: 0.3151 - learning_rate: 2.0000e-04\n",
      "Epoch 10/20\n",
      "\u001b[1m304/304\u001b[0m \u001b[32m━━━━━━━━━━━━━━━━━━━━\u001b[0m\u001b[37m\u001b[0m \u001b[1m90s\u001b[0m 295ms/step - accuracy: 0.8475 - loss: 0.3532 - val_accuracy: 0.8611 - val_loss: 0.3200 - learning_rate: 2.0000e-04\n",
      "Epoch 11/20\n",
      "\u001b[1m304/304\u001b[0m \u001b[32m━━━━━━━━━━━━━━━━━━━━\u001b[0m\u001b[37m\u001b[0m \u001b[1m88s\u001b[0m 288ms/step - accuracy: 0.8618 - loss: 0.3293 - val_accuracy: 0.8679 - val_loss: 0.3096 - learning_rate: 4.0000e-05\n",
      "Epoch 12/20\n",
      "\u001b[1m304/304\u001b[0m \u001b[32m━━━━━━━━━━━━━━━━━━━━\u001b[0m\u001b[37m\u001b[0m \u001b[1m81s\u001b[0m 265ms/step - accuracy: 0.8563 - loss: 0.3348 - val_accuracy: 0.8693 - val_loss: 0.3097 - learning_rate: 4.0000e-05\n",
      "Epoch 13/20\n",
      "\u001b[1m304/304\u001b[0m \u001b[32m━━━━━━━━━━━━━━━━━━━━\u001b[0m\u001b[37m\u001b[0m \u001b[1m81s\u001b[0m 267ms/step - accuracy: 0.8652 - loss: 0.3285 - val_accuracy: 0.8693 - val_loss: 0.3086 - learning_rate: 4.0000e-05\n",
      "Epoch 14/20\n",
      "\u001b[1m304/304\u001b[0m \u001b[32m━━━━━━━━━━━━━━━━━━━━\u001b[0m\u001b[37m\u001b[0m \u001b[1m85s\u001b[0m 280ms/step - accuracy: 0.8638 - loss: 0.3285 - val_accuracy: 0.8741 - val_loss: 0.3062 - learning_rate: 4.0000e-05\n",
      "Epoch 15/20\n",
      "\u001b[1m304/304\u001b[0m \u001b[32m━━━━━━━━━━━━━━━━━━━━\u001b[0m\u001b[37m\u001b[0m \u001b[1m92s\u001b[0m 304ms/step - accuracy: 0.8558 - loss: 0.3345 - val_accuracy: 0.8741 - val_loss: 0.3053 - learning_rate: 4.0000e-05\n",
      "Epoch 16/20\n",
      "\u001b[1m304/304\u001b[0m \u001b[32m━━━━━━━━━━━━━━━━━━━━\u001b[0m\u001b[37m\u001b[0m \u001b[1m95s\u001b[0m 311ms/step - accuracy: 0.8655 - loss: 0.3253 - val_accuracy: 0.8698 - val_loss: 0.3082 - learning_rate: 4.0000e-05\n",
      "Epoch 17/20\n",
      "\u001b[1m304/304\u001b[0m \u001b[32m━━━━━━━━━━━━━━━━━━━━\u001b[0m\u001b[37m\u001b[0m \u001b[1m95s\u001b[0m 312ms/step - accuracy: 0.8607 - loss: 0.3316 - val_accuracy: 0.8727 - val_loss: 0.3052 - learning_rate: 4.0000e-05\n",
      "Epoch 18/20\n",
      "\u001b[1m304/304\u001b[0m \u001b[32m━━━━━━━━━━━━━━━━━━━━\u001b[0m\u001b[37m\u001b[0m \u001b[1m86s\u001b[0m 283ms/step - accuracy: 0.8694 - loss: 0.3249 - val_accuracy: 0.8755 - val_loss: 0.3042 - learning_rate: 8.0000e-06\n",
      "Epoch 19/20\n",
      "\u001b[1m304/304\u001b[0m \u001b[32m━━━━━━━━━━━━━━━━━━━━\u001b[0m\u001b[37m\u001b[0m \u001b[1m88s\u001b[0m 291ms/step - accuracy: 0.8661 - loss: 0.3235 - val_accuracy: 0.8770 - val_loss: 0.3038 - learning_rate: 8.0000e-06\n",
      "Epoch 20/20\n",
      "\u001b[1m304/304\u001b[0m \u001b[32m━━━━━━━━━━━━━━━━━━━━\u001b[0m\u001b[37m\u001b[0m \u001b[1m87s\u001b[0m 285ms/step - accuracy: 0.8649 - loss: 0.3244 - val_accuracy: 0.8770 - val_loss: 0.3034 - learning_rate: 8.0000e-06\n"
     ]
    },
    {
     "name": "stderr",
     "output_type": "stream",
     "text": [
      "WARNING:absl:You are saving your model as an HDF5 file via `model.save()` or `keras.saving.save_model(model)`. This file format is considered legacy. We recommend using instead the native Keras format, e.g. `model.save('my_model.keras')` or `keras.saving.save_model(model, 'my_model.keras')`. \n"
     ]
    }
   ],
   "source": [
    "# ====== 4. Huấn luyện mô hình ======\n",
    "early_stopping = EarlyStopping(monitor='val_loss', patience=3)\n",
    "reduce_lr = ReduceLROnPlateau(monitor='val_loss', factor=0.2, patience=2)\n",
    "\n",
    "# Kiểm tra nếu mô hình đã tồn tại\n",
    "model_path = 'my_model.h5'\n",
    "if os.path.exists(model_path):\n",
    "    model = load_model(model_path)  # Tải mô hình đã lưu\n",
    "    print(\"Mô hình đã được tải thành công từ:\", model_path)\n",
    "    history = None  # Đặt history là None khi mô hình được tải\n",
    "else:\n",
    "    history = model.fit(train_data,\n",
    "                        epochs=20,\n",
    "                        validation_data=validation_data,\n",
    "                        callbacks=[early_stopping, reduce_lr])\n",
    "    model.save(model_path)  # Lưu mô hình sau khi huấn luyện"
   ]
  },
  {
   "cell_type": "code",
   "execution_count": 15,
   "metadata": {},
   "outputs": [
    {
     "name": "stdout",
     "output_type": "stream",
     "text": [
      "\u001b[1m66/66\u001b[0m \u001b[32m━━━━━━━━━━━━━━━━━━━━\u001b[0m\u001b[37m\u001b[0m \u001b[1m22s\u001b[0m 334ms/step - accuracy: 0.8818 - loss: 0.2880\n",
      "Test Accuracy: 0.87\n"
     ]
    },
    {
     "data": {
      "image/png": "[encoded data removed]",
      "text/plain": [
       "<Figure size 640x480 with 1 Axes>"
      ]
     },
     "metadata": {},
     "output_type": "display_data"
    }
   ],
   "source": [
    "# ====== 5. Đánh giá và trực quan hóa ======\n",
    "test_loss, test_acc = model.evaluate(test_data)\n",
    "print(f\"Test Accuracy: {test_acc:.2f}\")\n",
    "\n",
    "# Chỉ vẽ đồ thị nếu history không phải là None\n",
    "if history is not None:\n",
    "    plt.plot(history.history['accuracy'], label='Train Accuracy')\n",
    "    plt.plot(history.history['val_accuracy'], label='Validation Accuracy')\n",
    "    plt.xlabel('Epochs')\n",
    "    plt.ylabel('Accuracy')\n",
    "    plt.legend()\n",
    "    plt.show()"
   ]
  },
  {
   "cell_type": "code",
   "execution_count": 17,
   "metadata": {},
   "outputs": [
    {
     "name": "stdout",
     "output_type": "stream",
     "text": [
      "\u001b[1m1/1\u001b[0m \u001b[32m━━━━━━━━━━━━━━━━━━━━\u001b[0m\u001b[37m\u001b[0m \u001b[1m0s\u001b[0m 260ms/step\n",
      "Kết quả: Lành tính\n"
     ]
    }
   ],
   "source": [
    "# ====== 6. Dự đoán ======\n",
    "def predict_image(img_path):\n",
    "    img = image.load_img(img_path, target_size=(112, 112))  # Đảm bảo kích thước ảnh đúng\n",
    "    img_array = image.img_to_array(img) / 255.0\n",
    "    img_array = np.expand_dims(img_array, axis=0)\n",
    "\n",
    "    prediction = model.predict(img_array)\n",
    "    if prediction[0][0] > 0.5:\n",
    "        return \"Kết quả: Ác tính\"\n",
    "    else:\n",
    "        return \"Kết quả: Lành tính\"\n",
    "\n",
    "# Ví dụ sử dụng hàm dự đoán\n",
    "img_path = 'D:/DATN/DATN_SyDanhVinh/model_dataset/validation/Benign/107.jpg'  # Thay bằng ảnh thực tế\n",
    "result = predict_image(img_path)\n",
    "print(result)"
   ]
  }
 ],
 "metadata": {
  "kernelspec": {
   "display_name": "Python 3",
   "language": "python",
   "name": "python3"
  },
  "language_info": {
   "codemirror_mode": {
    "name": "ipython",
    "version": 3
   },
   "file_extension": ".py",
   "mimetype": "text/x-python",
   "name": "python",
   "nbconvert_exporter": "python",
   "pygments_lexer": "ipython3",
   "version": "3.11.5"
  }
 },
 "nbformat": 4,
 "nbformat_minor": 2
}
