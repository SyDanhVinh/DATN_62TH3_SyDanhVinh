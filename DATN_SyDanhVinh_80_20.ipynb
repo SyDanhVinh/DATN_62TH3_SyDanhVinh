{
 "cells": [
  {
   "cell_type": "code",
   "execution_count": 11,
   "metadata": {},
   "outputs": [],
   "source": [
    "import os\n",
    "import shutil\n",
    "from sklearn.model_selection import train_test_split\n",
    "import tensorflow as tf\n",
    "from tensorflow.keras.preprocessing.image import ImageDataGenerator \n",
    "from tensorflow.keras.models import Sequential, load_model \n",
    "from tensorflow.keras.layers import Conv2D, MaxPooling2D, Flatten, Dense, Dropout \n",
    "from tensorflow.keras.callbacks import EarlyStopping, ReduceLROnPlateau \n",
    "import matplotlib.pyplot as plt\n",
    "from sklearn.metrics import confusion_matrix\n",
    "import seaborn as sns\n",
    "import numpy as np\n",
    "from tensorflow.keras.preprocessing import image "
   ]
  },
  {
   "cell_type": "code",
   "execution_count": 13,
   "metadata": {},
   "outputs": [
    {
     "name": "stdout",
     "output_type": "stream",
     "text": [
      "Dữ liệu đã được phân chia hoàn tất!\n"
     ]
    }
   ],
   "source": [
    "# ====== 1. Phân chia dữ liệu ======\n",
    "# Đường dẫn tới dataset gốc\n",
    "# dataset_dir = \"C:/Users/DATN_SyDanhVinh/skin_dataset\"\n",
    "output_dir = \"D:/DATN/DATN_SyDanhVinh/model_dataset_80_20\"\n",
    "\n",
    "# Tạo thư mục phân chia\n",
    "# for split in ['train', 'validation', 'test']:\n",
    "#     for class_name in ['benign', 'malignant']:\n",
    "#         os.makedirs(os.path.join(output_dir, split, class_name), exist_ok=True)\n",
    "\n",
    "# # Phân chia dữ liệu cho từng lớp\n",
    "# for class_name in ['benign', 'malignant']:\n",
    "#     source_dir = os.path.join(dataset_dir, class_name)\n",
    "#     images = os.listdir(source_dir)\n",
    "#     train_images, temp_images = train_test_split(images, test_size=0.2, random_state=42)\n",
    "#     val_images, test_images = train_test_split(temp_images, test_size=0.5, random_state=42)\n",
    "#     for img in train_images:\n",
    "#         shutil.move(os.path.join(source_dir, img), os.path.join(output_dir, 'train', class_name, img))\n",
    "#     for img in val_images:\n",
    "#         shutil.move(os.path.join(source_dir, img), os.path.join(output_dir, 'validation', class_name, img))\n",
    "#     for img in test_images:\n",
    "#         shutil.move(os.path.join(source_dir, img), os.path.join(output_dir, 'test', class_name, img))\n",
    "# print(\"Dữ liệu đã được phân chia hoàn tất!\")"
   ]
  },
  {
   "cell_type": "code",
   "execution_count": 14,
   "metadata": {},
   "outputs": [
    {
     "name": "stdout",
     "output_type": "stream",
     "text": [
      "Số lượng ảnh trong tập huấn luyện (train):\n",
      "  - Benign: 5831\n",
      "  - Malignant: 5272\n",
      "Số lượng ảnh trong tập validation:\n",
      "  - Benign: 729\n",
      "  - Malignant: 659\n",
      "Số lượng ảnh trong tập kiểm tra (test đã chia):\n",
      "  - Benign: 729\n",
      "  - Malignant: 659\n"
     ]
    }
   ],
   "source": [
    "# Đường dẫn đến các thư mục train, validation, test\n",
    "train_dir = \"D:/DATN/DATN_SyDanhVinh/model_dataset_80_20/train\"\n",
    "validation_dir = \"D:/DATN/DATN_SyDanhVinh/model_dataset_80_20/validation\"\n",
    "test_dir = \"D:/DATN/DATN_SyDanhVinh/model_dataset_80_20/test\"\n",
    "\n",
    "# Hàm đếm số lượng ảnh trong thư mục\n",
    "def count_images_in_dir(directory):\n",
    "    count = 0\n",
    "    for root, dirs, files in os.walk(directory):\n",
    "        count += len(files)\n",
    "    return count\n",
    "\n",
    "# Kiểm tra số lượng ảnh cho mỗi thư mục trong dataset đã chia\n",
    "train_benign_count = count_images_in_dir(os.path.join(train_dir, 'Benign'))\n",
    "train_malignant_count = count_images_in_dir(os.path.join(train_dir, 'Malignant'))\n",
    "\n",
    "validation_benign_count = count_images_in_dir(os.path.join(validation_dir, 'Benign'))\n",
    "validation_malignant_count = count_images_in_dir(os.path.join(validation_dir, 'Malignant'))\n",
    "\n",
    "test_benign_count = count_images_in_dir(os.path.join(test_dir, 'Benign'))\n",
    "test_malignant_count = count_images_in_dir(os.path.join(test_dir, 'Malignant'))\n",
    "\n",
    "# In kết quả\n",
    "print(f\"Số lượng ảnh trong tập huấn luyện (train):\")\n",
    "print(f\"  - Benign: {train_benign_count}\")\n",
    "print(f\"  - Malignant: {train_malignant_count}\")\n",
    "print(f\"Số lượng ảnh trong tập validation:\")\n",
    "print(f\"  - Benign: {validation_benign_count}\")\n",
    "print(f\"  - Malignant: {validation_malignant_count}\")\n",
    "print(f\"Số lượng ảnh trong tập kiểm tra (test đã chia):\")\n",
    "print(f\"  - Benign: {test_benign_count}\")\n",
    "print(f\"  - Malignant: {test_malignant_count}\")"
   ]
  },
  {
   "cell_type": "code",
   "execution_count": 15,
   "metadata": {},
   "outputs": [
    {
     "name": "stdout",
     "output_type": "stream",
     "text": [
      "Found 11103 images belonging to 2 classes.\n",
      "Found 1388 images belonging to 2 classes.\n",
      "Found 1388 images belonging to 2 classes.\n"
     ]
    }
   ],
   "source": [
    "# ====== 2. Chuẩn bị dữ liệu ======\n",
    "train_dir = os.path.join(output_dir, 'train')\n",
    "validation_dir = os.path.join(output_dir, 'validation')\n",
    "test_dir = os.path.join(output_dir, 'test')\n",
    "\n",
    "train_datagen = ImageDataGenerator(rescale=1./255,\n",
    "                                   rotation_range=20,\n",
    "                                   width_shift_range=0.2,\n",
    "                                   height_shift_range=0.2,\n",
    "                                   horizontal_flip=True)\n",
    "\n",
    "test_datagen = ImageDataGenerator(rescale=1./255)\n",
    "\n",
    "train_data = train_datagen.flow_from_directory(train_dir,\n",
    "                                               target_size=(112, 112),\n",
    "                                               batch_size=32,\n",
    "                                               class_mode='binary')\n",
    "\n",
    "validation_data = test_datagen.flow_from_directory(validation_dir,\n",
    "                                                   target_size=(112, 112),\n",
    "                                                   batch_size=32,\n",
    "                                                   class_mode='binary')\n",
    "\n",
    "test_data = test_datagen.flow_from_directory(test_dir,\n",
    "                                             target_size=(112, 112),\n",
    "                                             batch_size=32,\n",
    "                                             class_mode='binary')"
   ]
  },
  {
   "cell_type": "code",
   "execution_count": 16,
   "metadata": {},
   "outputs": [
    {
     "data": {
      "text/html": [
       "<pre style=\"white-space:pre;overflow-x:auto;line-height:normal;font-family:Menlo,'DejaVu Sans Mono',consolas,'Courier New',monospace\"><span style=\"font-weight: bold\">Model: \"sequential_1\"</span>\n",
       "</pre>\n"
      ],
      "text/plain": [
       "\u001b[1mModel: \"sequential_1\"\u001b[0m\n"
      ]
     },
     "metadata": {},
     "output_type": "display_data"
    },
    {
     "data": {
      "text/html": [
       "<pre style=\"white-space:pre;overflow-x:auto;line-height:normal;font-family:Menlo,'DejaVu Sans Mono',consolas,'Courier New',monospace\">┏━━━━━━━━━━━━━━━━━━━━━━━━━━━━━━━━━┳━━━━━━━━━━━━━━━━━━━━━━━━┳━━━━━━━━━━━━━━━┓\n",
       "┃<span style=\"font-weight: bold\"> Layer (type)                    </span>┃<span style=\"font-weight: bold\"> Output Shape           </span>┃<span style=\"font-weight: bold\">       Param # </span>┃\n",
       "┡━━━━━━━━━━━━━━━━━━━━━━━━━━━━━━━━━╇━━━━━━━━━━━━━━━━━━━━━━━━╇━━━━━━━━━━━━━━━┩\n",
       "│ conv2d_2 (<span style=\"color: #0087ff; text-decoration-color: #0087ff\">Conv2D</span>)               │ (<span style=\"color: #00d7ff; text-decoration-color: #00d7ff\">None</span>, <span style=\"color: #00af00; text-decoration-color: #00af00\">110</span>, <span style=\"color: #00af00; text-decoration-color: #00af00\">110</span>, <span style=\"color: #00af00; text-decoration-color: #00af00\">16</span>)   │           <span style=\"color: #00af00; text-decoration-color: #00af00\">448</span> │\n",
       "├─────────────────────────────────┼────────────────────────┼───────────────┤\n",
       "│ max_pooling2d_2 (<span style=\"color: #0087ff; text-decoration-color: #0087ff\">MaxPooling2D</span>)  │ (<span style=\"color: #00d7ff; text-decoration-color: #00d7ff\">None</span>, <span style=\"color: #00af00; text-decoration-color: #00af00\">55</span>, <span style=\"color: #00af00; text-decoration-color: #00af00\">55</span>, <span style=\"color: #00af00; text-decoration-color: #00af00\">16</span>)     │             <span style=\"color: #00af00; text-decoration-color: #00af00\">0</span> │\n",
       "├─────────────────────────────────┼────────────────────────┼───────────────┤\n",
       "│ conv2d_3 (<span style=\"color: #0087ff; text-decoration-color: #0087ff\">Conv2D</span>)               │ (<span style=\"color: #00d7ff; text-decoration-color: #00d7ff\">None</span>, <span style=\"color: #00af00; text-decoration-color: #00af00\">53</span>, <span style=\"color: #00af00; text-decoration-color: #00af00\">53</span>, <span style=\"color: #00af00; text-decoration-color: #00af00\">32</span>)     │         <span style=\"color: #00af00; text-decoration-color: #00af00\">4,640</span> │\n",
       "├─────────────────────────────────┼────────────────────────┼───────────────┤\n",
       "│ max_pooling2d_3 (<span style=\"color: #0087ff; text-decoration-color: #0087ff\">MaxPooling2D</span>)  │ (<span style=\"color: #00d7ff; text-decoration-color: #00d7ff\">None</span>, <span style=\"color: #00af00; text-decoration-color: #00af00\">26</span>, <span style=\"color: #00af00; text-decoration-color: #00af00\">26</span>, <span style=\"color: #00af00; text-decoration-color: #00af00\">32</span>)     │             <span style=\"color: #00af00; text-decoration-color: #00af00\">0</span> │\n",
       "├─────────────────────────────────┼────────────────────────┼───────────────┤\n",
       "│ flatten_1 (<span style=\"color: #0087ff; text-decoration-color: #0087ff\">Flatten</span>)             │ (<span style=\"color: #00d7ff; text-decoration-color: #00d7ff\">None</span>, <span style=\"color: #00af00; text-decoration-color: #00af00\">21632</span>)          │             <span style=\"color: #00af00; text-decoration-color: #00af00\">0</span> │\n",
       "├─────────────────────────────────┼────────────────────────┼───────────────┤\n",
       "│ dense_2 (<span style=\"color: #0087ff; text-decoration-color: #0087ff\">Dense</span>)                 │ (<span style=\"color: #00d7ff; text-decoration-color: #00d7ff\">None</span>, <span style=\"color: #00af00; text-decoration-color: #00af00\">128</span>)            │     <span style=\"color: #00af00; text-decoration-color: #00af00\">2,769,024</span> │\n",
       "├─────────────────────────────────┼────────────────────────┼───────────────┤\n",
       "│ dropout_1 (<span style=\"color: #0087ff; text-decoration-color: #0087ff\">Dropout</span>)             │ (<span style=\"color: #00d7ff; text-decoration-color: #00d7ff\">None</span>, <span style=\"color: #00af00; text-decoration-color: #00af00\">128</span>)            │             <span style=\"color: #00af00; text-decoration-color: #00af00\">0</span> │\n",
       "├─────────────────────────────────┼────────────────────────┼───────────────┤\n",
       "│ dense_3 (<span style=\"color: #0087ff; text-decoration-color: #0087ff\">Dense</span>)                 │ (<span style=\"color: #00d7ff; text-decoration-color: #00d7ff\">None</span>, <span style=\"color: #00af00; text-decoration-color: #00af00\">1</span>)              │           <span style=\"color: #00af00; text-decoration-color: #00af00\">129</span> │\n",
       "└─────────────────────────────────┴────────────────────────┴───────────────┘\n",
       "</pre>\n"
      ],
      "text/plain": [
       "┏━━━━━━━━━━━━━━━━━━━━━━━━━━━━━━━━━┳━━━━━━━━━━━━━━━━━━━━━━━━┳━━━━━━━━━━━━━━━┓\n",
       "┃\u001b[1m \u001b[0m\u001b[1mLayer (type)                   \u001b[0m\u001b[1m \u001b[0m┃\u001b[1m \u001b[0m\u001b[1mOutput Shape          \u001b[0m\u001b[1m \u001b[0m┃\u001b[1m \u001b[0m\u001b[1m      Param #\u001b[0m\u001b[1m \u001b[0m┃\n",
       "┡━━━━━━━━━━━━━━━━━━━━━━━━━━━━━━━━━╇━━━━━━━━━━━━━━━━━━━━━━━━╇━━━━━━━━━━━━━━━┩\n",
       "│ conv2d_2 (\u001b[38;5;33mConv2D\u001b[0m)               │ (\u001b[38;5;45mNone\u001b[0m, \u001b[38;5;34m110\u001b[0m, \u001b[38;5;34m110\u001b[0m, \u001b[38;5;34m16\u001b[0m)   │           \u001b[38;5;34m448\u001b[0m │\n",
       "├─────────────────────────────────┼────────────────────────┼───────────────┤\n",
       "│ max_pooling2d_2 (\u001b[38;5;33mMaxPooling2D\u001b[0m)  │ (\u001b[38;5;45mNone\u001b[0m, \u001b[38;5;34m55\u001b[0m, \u001b[38;5;34m55\u001b[0m, \u001b[38;5;34m16\u001b[0m)     │             \u001b[38;5;34m0\u001b[0m │\n",
       "├─────────────────────────────────┼────────────────────────┼───────────────┤\n",
       "│ conv2d_3 (\u001b[38;5;33mConv2D\u001b[0m)               │ (\u001b[38;5;45mNone\u001b[0m, \u001b[38;5;34m53\u001b[0m, \u001b[38;5;34m53\u001b[0m, \u001b[38;5;34m32\u001b[0m)     │         \u001b[38;5;34m4,640\u001b[0m │\n",
       "├─────────────────────────────────┼────────────────────────┼───────────────┤\n",
       "│ max_pooling2d_3 (\u001b[38;5;33mMaxPooling2D\u001b[0m)  │ (\u001b[38;5;45mNone\u001b[0m, \u001b[38;5;34m26\u001b[0m, \u001b[38;5;34m26\u001b[0m, \u001b[38;5;34m32\u001b[0m)     │             \u001b[38;5;34m0\u001b[0m │\n",
       "├─────────────────────────────────┼────────────────────────┼───────────────┤\n",
       "│ flatten_1 (\u001b[38;5;33mFlatten\u001b[0m)             │ (\u001b[38;5;45mNone\u001b[0m, \u001b[38;5;34m21632\u001b[0m)          │             \u001b[38;5;34m0\u001b[0m │\n",
       "├─────────────────────────────────┼────────────────────────┼───────────────┤\n",
       "│ dense_2 (\u001b[38;5;33mDense\u001b[0m)                 │ (\u001b[38;5;45mNone\u001b[0m, \u001b[38;5;34m128\u001b[0m)            │     \u001b[38;5;34m2,769,024\u001b[0m │\n",
       "├─────────────────────────────────┼────────────────────────┼───────────────┤\n",
       "│ dropout_1 (\u001b[38;5;33mDropout\u001b[0m)             │ (\u001b[38;5;45mNone\u001b[0m, \u001b[38;5;34m128\u001b[0m)            │             \u001b[38;5;34m0\u001b[0m │\n",
       "├─────────────────────────────────┼────────────────────────┼───────────────┤\n",
       "│ dense_3 (\u001b[38;5;33mDense\u001b[0m)                 │ (\u001b[38;5;45mNone\u001b[0m, \u001b[38;5;34m1\u001b[0m)              │           \u001b[38;5;34m129\u001b[0m │\n",
       "└─────────────────────────────────┴────────────────────────┴───────────────┘\n"
      ]
     },
     "metadata": {},
     "output_type": "display_data"
    },
    {
     "data": {
      "text/html": [
       "<pre style=\"white-space:pre;overflow-x:auto;line-height:normal;font-family:Menlo,'DejaVu Sans Mono',consolas,'Courier New',monospace\"><span style=\"font-weight: bold\"> Total params: </span><span style=\"color: #00af00; text-decoration-color: #00af00\">2,774,241</span> (10.58 MB)\n",
       "</pre>\n"
      ],
      "text/plain": [
       "\u001b[1m Total params: \u001b[0m\u001b[38;5;34m2,774,241\u001b[0m (10.58 MB)\n"
      ]
     },
     "metadata": {},
     "output_type": "display_data"
    },
    {
     "data": {
      "text/html": [
       "<pre style=\"white-space:pre;overflow-x:auto;line-height:normal;font-family:Menlo,'DejaVu Sans Mono',consolas,'Courier New',monospace\"><span style=\"font-weight: bold\"> Trainable params: </span><span style=\"color: #00af00; text-decoration-color: #00af00\">2,774,241</span> (10.58 MB)\n",
       "</pre>\n"
      ],
      "text/plain": [
       "\u001b[1m Trainable params: \u001b[0m\u001b[38;5;34m2,774,241\u001b[0m (10.58 MB)\n"
      ]
     },
     "metadata": {},
     "output_type": "display_data"
    },
    {
     "data": {
      "text/html": [
       "<pre style=\"white-space:pre;overflow-x:auto;line-height:normal;font-family:Menlo,'DejaVu Sans Mono',consolas,'Courier New',monospace\"><span style=\"font-weight: bold\"> Non-trainable params: </span><span style=\"color: #00af00; text-decoration-color: #00af00\">0</span> (0.00 B)\n",
       "</pre>\n"
      ],
      "text/plain": [
       "\u001b[1m Non-trainable params: \u001b[0m\u001b[38;5;34m0\u001b[0m (0.00 B)\n"
      ]
     },
     "metadata": {},
     "output_type": "display_data"
    }
   ],
   "source": [
    "# ====== 3. Xây dựng mô hình CNN ======\n",
    "model = Sequential([\n",
    "    # Lớp tích chập\n",
    "    Conv2D(16, (3, 3), activation='relu', input_shape=(112, 112, 3)),  # Giảm số lượng bộ lọc\n",
    "    # Lớp gộp\n",
    "    MaxPooling2D(pool_size=(2, 2)),\n",
    "\n",
    "    Conv2D(32, (3, 3), activation='relu'),\n",
    "    MaxPooling2D(pool_size=(2, 2)),\n",
    "    # Chuyển dữ liệu từ ma trận 2D thành vector 1D để đưa vào lớp Dense\n",
    "    Flatten(),\n",
    "    Dense(128, activation='relu'),  # Giảm số lượng nơ-ron\n",
    "    Dropout(0.5),\n",
    "    Dense(1, activation='sigmoid')\n",
    "])\n",
    "\n",
    "model.compile(optimizer='adam',\n",
    "              loss='binary_crossentropy',\n",
    "              metrics=['accuracy'])\n",
    "\n",
    "model.summary()"
   ]
  },
  {
   "cell_type": "code",
   "execution_count": 17,
   "metadata": {},
   "outputs": [
    {
     "name": "stdout",
     "output_type": "stream",
     "text": [
      "Epoch 1/20\n",
      "\u001b[1m347/347\u001b[0m \u001b[32m━━━━━━━━━━━━━━━━━━━━\u001b[0m\u001b[37m\u001b[0m \u001b[1m251s\u001b[0m 713ms/step - accuracy: 0.7206 - loss: 0.5427 - val_accuracy: 0.8523 - val_loss: 0.3653 - learning_rate: 0.0010\n",
      "Epoch 2/20\n",
      "\u001b[1m347/347\u001b[0m \u001b[32m━━━━━━━━━━━━━━━━━━━━\u001b[0m\u001b[37m\u001b[0m \u001b[1m111s\u001b[0m 319ms/step - accuracy: 0.8152 - loss: 0.4112 - val_accuracy: 0.8552 - val_loss: 0.3510 - learning_rate: 0.0010\n",
      "Epoch 3/20\n",
      "\u001b[1m347/347\u001b[0m \u001b[32m━━━━━━━━━━━━━━━━━━━━\u001b[0m\u001b[37m\u001b[0m \u001b[1m111s\u001b[0m 321ms/step - accuracy: 0.8256 - loss: 0.3874 - val_accuracy: 0.8480 - val_loss: 0.3513 - learning_rate: 0.0010\n",
      "Epoch 4/20\n",
      "\u001b[1m347/347\u001b[0m \u001b[32m━━━━━━━━━━━━━━━━━━━━\u001b[0m\u001b[37m\u001b[0m \u001b[1m109s\u001b[0m 314ms/step - accuracy: 0.8373 - loss: 0.3751 - val_accuracy: 0.8415 - val_loss: 0.3469 - learning_rate: 0.0010\n",
      "Epoch 5/20\n",
      "\u001b[1m347/347\u001b[0m \u001b[32m━━━━━━━━━━━━━━━━━━━━\u001b[0m\u001b[37m\u001b[0m \u001b[1m111s\u001b[0m 320ms/step - accuracy: 0.8380 - loss: 0.3698 - val_accuracy: 0.8631 - val_loss: 0.3237 - learning_rate: 0.0010\n",
      "Epoch 6/20\n",
      "\u001b[1m347/347\u001b[0m \u001b[32m━━━━━━━━━━━━━━━━━━━━\u001b[0m\u001b[37m\u001b[0m \u001b[1m112s\u001b[0m 323ms/step - accuracy: 0.8407 - loss: 0.3696 - val_accuracy: 0.8624 - val_loss: 0.3180 - learning_rate: 0.0010\n",
      "Epoch 7/20\n",
      "\u001b[1m347/347\u001b[0m \u001b[32m━━━━━━━━━━━━━━━━━━━━\u001b[0m\u001b[37m\u001b[0m \u001b[1m111s\u001b[0m 321ms/step - accuracy: 0.8437 - loss: 0.3600 - val_accuracy: 0.8602 - val_loss: 0.3428 - learning_rate: 0.0010\n",
      "Epoch 8/20\n",
      "\u001b[1m347/347\u001b[0m \u001b[32m━━━━━━━━━━━━━━━━━━━━\u001b[0m\u001b[37m\u001b[0m \u001b[1m112s\u001b[0m 324ms/step - accuracy: 0.8416 - loss: 0.3693 - val_accuracy: 0.8674 - val_loss: 0.3095 - learning_rate: 0.0010\n",
      "Epoch 9/20\n",
      "\u001b[1m347/347\u001b[0m \u001b[32m━━━━━━━━━━━━━━━━━━━━\u001b[0m\u001b[37m\u001b[0m \u001b[1m110s\u001b[0m 318ms/step - accuracy: 0.8478 - loss: 0.3553 - val_accuracy: 0.8761 - val_loss: 0.3088 - learning_rate: 0.0010\n",
      "Epoch 10/20\n",
      "\u001b[1m347/347\u001b[0m \u001b[32m━━━━━━━━━━━━━━━━━━━━\u001b[0m\u001b[37m\u001b[0m \u001b[1m111s\u001b[0m 320ms/step - accuracy: 0.8590 - loss: 0.3396 - val_accuracy: 0.8746 - val_loss: 0.3043 - learning_rate: 0.0010\n",
      "Epoch 11/20\n",
      "\u001b[1m347/347\u001b[0m \u001b[32m━━━━━━━━━━━━━━━━━━━━\u001b[0m\u001b[37m\u001b[0m \u001b[1m113s\u001b[0m 325ms/step - accuracy: 0.8545 - loss: 0.3474 - val_accuracy: 0.8653 - val_loss: 0.3316 - learning_rate: 0.0010\n",
      "Epoch 12/20\n",
      "\u001b[1m347/347\u001b[0m \u001b[32m━━━━━━━━━━━━━━━━━━━━\u001b[0m\u001b[37m\u001b[0m \u001b[1m120s\u001b[0m 345ms/step - accuracy: 0.8495 - loss: 0.3474 - val_accuracy: 0.8804 - val_loss: 0.2984 - learning_rate: 0.0010\n",
      "Epoch 13/20\n",
      "\u001b[1m347/347\u001b[0m \u001b[32m━━━━━━━━━━━━━━━━━━━━\u001b[0m\u001b[37m\u001b[0m \u001b[1m123s\u001b[0m 355ms/step - accuracy: 0.8634 - loss: 0.3294 - val_accuracy: 0.8905 - val_loss: 0.2855 - learning_rate: 0.0010\n",
      "Epoch 14/20\n",
      "\u001b[1m347/347\u001b[0m \u001b[32m━━━━━━━━━━━━━━━━━━━━\u001b[0m\u001b[37m\u001b[0m \u001b[1m119s\u001b[0m 341ms/step - accuracy: 0.8542 - loss: 0.3323 - val_accuracy: 0.8797 - val_loss: 0.2910 - learning_rate: 0.0010\n",
      "Epoch 15/20\n",
      "\u001b[1m347/347\u001b[0m \u001b[32m━━━━━━━━━━━━━━━━━━━━\u001b[0m\u001b[37m\u001b[0m \u001b[1m116s\u001b[0m 333ms/step - accuracy: 0.8628 - loss: 0.3303 - val_accuracy: 0.8797 - val_loss: 0.2855 - learning_rate: 0.0010\n",
      "Epoch 16/20\n",
      "\u001b[1m347/347\u001b[0m \u001b[32m━━━━━━━━━━━━━━━━━━━━\u001b[0m\u001b[37m\u001b[0m \u001b[1m110s\u001b[0m 316ms/step - accuracy: 0.8654 - loss: 0.3081 - val_accuracy: 0.8883 - val_loss: 0.2743 - learning_rate: 2.0000e-04\n",
      "Epoch 17/20\n",
      "\u001b[1m347/347\u001b[0m \u001b[32m━━━━━━━━━━━━━━━━━━━━\u001b[0m\u001b[37m\u001b[0m \u001b[1m110s\u001b[0m 318ms/step - accuracy: 0.8784 - loss: 0.3030 - val_accuracy: 0.8919 - val_loss: 0.2704 - learning_rate: 2.0000e-04\n",
      "Epoch 18/20\n",
      "\u001b[1m347/347\u001b[0m \u001b[32m━━━━━━━━━━━━━━━━━━━━\u001b[0m\u001b[37m\u001b[0m \u001b[1m108s\u001b[0m 310ms/step - accuracy: 0.8747 - loss: 0.2987 - val_accuracy: 0.8898 - val_loss: 0.2690 - learning_rate: 2.0000e-04\n",
      "Epoch 19/20\n",
      "\u001b[1m347/347\u001b[0m \u001b[32m━━━━━━━━━━━━━━━━━━━━\u001b[0m\u001b[37m\u001b[0m \u001b[1m108s\u001b[0m 310ms/step - accuracy: 0.8770 - loss: 0.3014 - val_accuracy: 0.8927 - val_loss: 0.2678 - learning_rate: 2.0000e-04\n",
      "Epoch 20/20\n",
      "\u001b[1m347/347\u001b[0m \u001b[32m━━━━━━━━━━━━━━━━━━━━\u001b[0m\u001b[37m\u001b[0m \u001b[1m107s\u001b[0m 308ms/step - accuracy: 0.8790 - loss: 0.2992 - val_accuracy: 0.8890 - val_loss: 0.2735 - learning_rate: 2.0000e-04\n"
     ]
    },
    {
     "name": "stderr",
     "output_type": "stream",
     "text": [
      "WARNING:absl:You are saving your model as an HDF5 file via `model.save()` or `keras.saving.save_model(model)`. This file format is considered legacy. We recommend using instead the native Keras format, e.g. `model.save('my_model.keras')` or `keras.saving.save_model(model, 'my_model.keras')`. \n"
     ]
    }
   ],
   "source": [
    "# ====== 4. Huấn luyện mô hình ======\n",
    "early_stopping = EarlyStopping(monitor='val_loss', patience=3)\n",
    "reduce_lr = ReduceLROnPlateau(monitor='val_loss', factor=0.2, patience=2)\n",
    "\n",
    "# Kiểm tra nếu mô hình đã tồn tại\n",
    "model_path = 'model.h5'\n",
    "if os.path.exists(model_path):\n",
    "    model = load_model(model_path)  # Tải mô hình đã lưu\n",
    "    print(\"Mô hình đã được tải thành công từ:\", model_path)\n",
    "    history = None  # Đặt history là None khi mô hình được tải\n",
    "else:\n",
    "    history = model.fit(train_data,\n",
    "                        epochs=20,\n",
    "                        validation_data=validation_data,\n",
    "                        callbacks=[early_stopping, reduce_lr])\n",
    "    model.save(model_path)  # Lưu mô hình sau khi huấn luyện"
   ]
  },
  {
   "cell_type": "code",
   "execution_count": 18,
   "metadata": {},
   "outputs": [
    {
     "name": "stdout",
     "output_type": "stream",
     "text": [
      "\u001b[1m44/44\u001b[0m \u001b[32m━━━━━━━━━━━━━━━━━━━━\u001b[0m\u001b[37m\u001b[0m \u001b[1m4s\u001b[0m 100ms/step - accuracy: 0.8884 - loss: 0.2796\n",
      "Test Accuracy: 0.89\n"
     ]
    },
    {
     "data": {
      "image/png": "[encoded data removed]",
      "text/plain": [
       "<Figure size 640x480 with 1 Axes>"
      ]
     },
     "metadata": {},
     "output_type": "display_data"
    }
   ],
   "source": [
    "# ====== 5. Đánh giá và trực quan hóa ======\n",
    "test_loss, test_acc = model.evaluate(test_data)\n",
    "print(f\"Test Accuracy: {test_acc:.2f}\")\n",
    "\n",
    "# Chỉ vẽ đồ thị nếu history không phải là None\n",
    "if history is not None:\n",
    "    plt.plot(history.history['accuracy'], label='Train Accuracy')\n",
    "    plt.plot(history.history['val_accuracy'], label='Validation Accuracy')\n",
    "    plt.xlabel('Epochs')\n",
    "    plt.ylabel('Accuracy')\n",
    "    plt.legend()\n",
    "    plt.show()"
   ]
  },
  {
   "cell_type": "code",
   "execution_count": 20,
   "metadata": {},
   "outputs": [
    {
     "name": "stdout",
     "output_type": "stream",
     "text": [
      "\u001b[1m1/1\u001b[0m \u001b[32m━━━━━━━━━━━━━━━━━━━━\u001b[0m\u001b[37m\u001b[0m \u001b[1m0s\u001b[0m 199ms/step\n",
      "Kết quả: Lành tính\n"
     ]
    }
   ],
   "source": [
    "# ====== 6. Dự đoán ======\n",
    "def predict_image(img_path):\n",
    "    img = image.load_img(img_path, target_size=(112, 112))  # Đảm bảo kích thước ảnh đúng\n",
    "    img_array = image.img_to_array(img) / 255.0\n",
    "    img_array = np.expand_dims(img_array, axis=0)\n",
    "\n",
    "    prediction = model.predict(img_array)\n",
    "    if prediction[0][0] > 0.5:\n",
    "        return \"Kết quả: Ác tính\"\n",
    "    else:\n",
    "        return \"Kết quả: Lành tính\"\n",
    "\n",
    "# Ví dụ sử dụng hàm dự đoán\n",
    "img_path = 'D:/DATN/DATN_SyDanhVinh/model_dataset/validation/Benign/107.jpg'  # Thay bằng ảnh thực tế\n",
    "result = predict_image(img_path)\n",
    "print(result)"
   ]
  }
 ],
 "metadata": {
  "kernelspec": {
   "display_name": "Python 3",
   "language": "python",
   "name": "python3"
  },
  "language_info": {
   "codemirror_mode": {
    "name": "ipython",
    "version": 3
   },
   "file_extension": ".py",
   "mimetype": "text/x-python",
   "name": "python",
   "nbconvert_exporter": "python",
   "pygments_lexer": "ipython3",
   "version": "3.11.5"
  }
 },
 "nbformat": 4,
 "nbformat_minor": 2
}
